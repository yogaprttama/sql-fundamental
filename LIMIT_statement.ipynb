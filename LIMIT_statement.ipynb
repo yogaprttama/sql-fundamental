{
  "cells": [
    {
      "cell_type": "markdown",
      "metadata": {
        "id": "ufi1IPpy6wT3"
      },
      "source": [
        "<a id=\"C\"></a>\n",
        "# <b>C. <span style='color:#E1B12D'><code>LIMIT</code></span></b>\n",
        "\n",
        "Tidak semua data ingin ditampilkan untuk proses <i>sampling</i>, sehingga perlu dikontrol dan melakukan pembatasan jumlah baris yang dikembalikan oleh sebuah query.\n",
        "Perintah `LIMIT <jumlah_data>` dalam SQL digunakan untuk membatasi data yang ingin ditampilkan. `LIMIT` diletakkan paling akhir dari sebuah query dengan perintah `SELECT`.\n",
        "\n",
        "<img src=\"https://raw.githubusercontent.com/bachtiyarma/Material/main/Image/Materi-SQL/SQL-Limit.png\" width=\"50%\">\n",
        "\n",
        "docs : <a href=\"https://dev.mysql.com/doc/refman/8.4/en/limit-optimization.html\"><i>https://dev.mysql.com/doc/refman/8.4/en/limit-optimization.html</a></i>"
      ]
    },
    {
      "cell_type": "markdown",
      "metadata": {
        "id": "ZMuyHBBZ6wT3"
      },
      "source": [
        "<a id=\"C.1.\"></a>\n",
        "## <b>C.1. <span style='color:#0B2F9F'>Membatasi Jumlah Baris (yang ditampilkan) di Semua Kolom pada Data</span></b>"
      ]
    },
    {
      "cell_type": "markdown",
      "metadata": {
        "id": "zIsB9ArP6wT3"
      },
      "source": [
        "#### <i><b><span style='color:#55679C'>Quest</span> : Tampilkan semua 5 data teratas pada tabel customer_status!</b></i>"
      ]
    },
    {
      "cell_type": "code",
      "execution_count": null,
      "metadata": {
        "id": "sTfUWS6k6wT3",
        "outputId": "4ea7a9aa-63dc-4819-e8b8-fda2e7a55da4"
      },
      "outputs": [
        {
          "data": {
            "text/html": [
              "<style type=\"text/css\">\n",
              "</style>\n",
              "<table id=\"T_0ef1f\">\n",
              "  <thead>\n",
              "    <tr>\n",
              "      <th id=\"T_0ef1f_level0_col0\" class=\"col_heading level0 col0\" >customer_id</th>\n",
              "      <th id=\"T_0ef1f_level0_col1\" class=\"col_heading level0 col1\" >satisfaction_score</th>\n",
              "      <th id=\"T_0ef1f_level0_col2\" class=\"col_heading level0 col2\" >status</th>\n",
              "      <th id=\"T_0ef1f_level0_col3\" class=\"col_heading level0 col3\" >churn_label</th>\n",
              "      <th id=\"T_0ef1f_level0_col4\" class=\"col_heading level0 col4\" >churn_score</th>\n",
              "      <th id=\"T_0ef1f_level0_col5\" class=\"col_heading level0 col5\" >cltv</th>\n",
              "      <th id=\"T_0ef1f_level0_col6\" class=\"col_heading level0 col6\" >churn_category</th>\n",
              "      <th id=\"T_0ef1f_level0_col7\" class=\"col_heading level0 col7\" >churn_reason</th>\n",
              "    </tr>\n",
              "  </thead>\n",
              "  <tbody>\n",
              "    <tr>\n",
              "      <td id=\"T_0ef1f_row0_col0\" class=\"data row0 col0\" >8779-QRDMV</td>\n",
              "      <td id=\"T_0ef1f_row0_col1\" class=\"data row0 col1\" >3</td>\n",
              "      <td id=\"T_0ef1f_row0_col2\" class=\"data row0 col2\" >Churned</td>\n",
              "      <td id=\"T_0ef1f_row0_col3\" class=\"data row0 col3\" >Yes</td>\n",
              "      <td id=\"T_0ef1f_row0_col4\" class=\"data row0 col4\" >91</td>\n",
              "      <td id=\"T_0ef1f_row0_col5\" class=\"data row0 col5\" >5433</td>\n",
              "      <td id=\"T_0ef1f_row0_col6\" class=\"data row0 col6\" >Competitor</td>\n",
              "      <td id=\"T_0ef1f_row0_col7\" class=\"data row0 col7\" >Competitor offered more data</td>\n",
              "    </tr>\n",
              "    <tr>\n",
              "      <td id=\"T_0ef1f_row1_col0\" class=\"data row1 col0\" >7495-OOKFY</td>\n",
              "      <td id=\"T_0ef1f_row1_col1\" class=\"data row1 col1\" >3</td>\n",
              "      <td id=\"T_0ef1f_row1_col2\" class=\"data row1 col2\" >Churned</td>\n",
              "      <td id=\"T_0ef1f_row1_col3\" class=\"data row1 col3\" >Yes</td>\n",
              "      <td id=\"T_0ef1f_row1_col4\" class=\"data row1 col4\" >69</td>\n",
              "      <td id=\"T_0ef1f_row1_col5\" class=\"data row1 col5\" >5302</td>\n",
              "      <td id=\"T_0ef1f_row1_col6\" class=\"data row1 col6\" >Competitor</td>\n",
              "      <td id=\"T_0ef1f_row1_col7\" class=\"data row1 col7\" >Competitor made better offer</td>\n",
              "    </tr>\n",
              "    <tr>\n",
              "      <td id=\"T_0ef1f_row2_col0\" class=\"data row2 col0\" >1658-BYGOY</td>\n",
              "      <td id=\"T_0ef1f_row2_col1\" class=\"data row2 col1\" >2</td>\n",
              "      <td id=\"T_0ef1f_row2_col2\" class=\"data row2 col2\" >Churned</td>\n",
              "      <td id=\"T_0ef1f_row2_col3\" class=\"data row2 col3\" >Yes</td>\n",
              "      <td id=\"T_0ef1f_row2_col4\" class=\"data row2 col4\" >81</td>\n",
              "      <td id=\"T_0ef1f_row2_col5\" class=\"data row2 col5\" >3179</td>\n",
              "      <td id=\"T_0ef1f_row2_col6\" class=\"data row2 col6\" >Competitor</td>\n",
              "      <td id=\"T_0ef1f_row2_col7\" class=\"data row2 col7\" >Competitor made better offer</td>\n",
              "    </tr>\n",
              "    <tr>\n",
              "      <td id=\"T_0ef1f_row3_col0\" class=\"data row3 col0\" >4598-XLKNJ</td>\n",
              "      <td id=\"T_0ef1f_row3_col1\" class=\"data row3 col1\" >2</td>\n",
              "      <td id=\"T_0ef1f_row3_col2\" class=\"data row3 col2\" >Churned</td>\n",
              "      <td id=\"T_0ef1f_row3_col3\" class=\"data row3 col3\" >Yes</td>\n",
              "      <td id=\"T_0ef1f_row3_col4\" class=\"data row3 col4\" >88</td>\n",
              "      <td id=\"T_0ef1f_row3_col5\" class=\"data row3 col5\" >5337</td>\n",
              "      <td id=\"T_0ef1f_row3_col6\" class=\"data row3 col6\" >Dissatisfaction</td>\n",
              "      <td id=\"T_0ef1f_row3_col7\" class=\"data row3 col7\" >Limited range of services</td>\n",
              "    </tr>\n",
              "    <tr>\n",
              "      <td id=\"T_0ef1f_row4_col0\" class=\"data row4 col0\" >4846-WHAFZ</td>\n",
              "      <td id=\"T_0ef1f_row4_col1\" class=\"data row4 col1\" >2</td>\n",
              "      <td id=\"T_0ef1f_row4_col2\" class=\"data row4 col2\" >Churned</td>\n",
              "      <td id=\"T_0ef1f_row4_col3\" class=\"data row4 col3\" >Yes</td>\n",
              "      <td id=\"T_0ef1f_row4_col4\" class=\"data row4 col4\" >67</td>\n",
              "      <td id=\"T_0ef1f_row4_col5\" class=\"data row4 col5\" >2793</td>\n",
              "      <td id=\"T_0ef1f_row4_col6\" class=\"data row4 col6\" >Price</td>\n",
              "      <td id=\"T_0ef1f_row4_col7\" class=\"data row4 col7\" >Extra data charges</td>\n",
              "    </tr>\n",
              "  </tbody>\n",
              "</table>\n"
            ],
            "text/plain": [
              "<pandas.io.formats.style.Styler at 0x1781a3790>"
            ]
          },
          "metadata": {},
          "output_type": "display_data"
        }
      ],
      "source": [
        "SELECT * FROM `telco_churn.customer_status` LIMIT 5"
      ]
    },
    {
      "cell_type": "markdown",
      "metadata": {
        "id": "6P6JiAiA6wT3"
      },
      "source": [
        "<a id=\"C.2.\"></a>\n",
        "## <b>C.2. <span style='color:#0B2F9F'>Membatasi Jumlah Baris (yang ditampilkan) di Kolom Tertentu pada Data</span></b>"
      ]
    },
    {
      "cell_type": "markdown",
      "metadata": {
        "id": "6WWkqauq6wT3"
      },
      "source": [
        "#### <i><b><span style='color:#55679C'>Quest</span> : Tampilkan 10 data teratas untuk kolom customer_id, status dan churn_reason pada tabel customer_status!</b></i>"
      ]
    },
    {
      "cell_type": "code",
      "execution_count": null,
      "metadata": {
        "id": "FJH__0MB6wT3",
        "outputId": "3e6fe391-0556-45aa-df53-770db759d173"
      },
      "outputs": [
        {
          "data": {
            "text/html": [
              "<style type=\"text/css\">\n",
              "</style>\n",
              "<table id=\"T_13e72\">\n",
              "  <thead>\n",
              "    <tr>\n",
              "      <th id=\"T_13e72_level0_col0\" class=\"col_heading level0 col0\" >customer_id</th>\n",
              "      <th id=\"T_13e72_level0_col1\" class=\"col_heading level0 col1\" >status</th>\n",
              "      <th id=\"T_13e72_level0_col2\" class=\"col_heading level0 col2\" >churn_reason</th>\n",
              "    </tr>\n",
              "  </thead>\n",
              "  <tbody>\n",
              "    <tr>\n",
              "      <td id=\"T_13e72_row0_col0\" class=\"data row0 col0\" >8779-QRDMV</td>\n",
              "      <td id=\"T_13e72_row0_col1\" class=\"data row0 col1\" >Churned</td>\n",
              "      <td id=\"T_13e72_row0_col2\" class=\"data row0 col2\" >Competitor offered more data</td>\n",
              "    </tr>\n",
              "    <tr>\n",
              "      <td id=\"T_13e72_row1_col0\" class=\"data row1 col0\" >7495-OOKFY</td>\n",
              "      <td id=\"T_13e72_row1_col1\" class=\"data row1 col1\" >Churned</td>\n",
              "      <td id=\"T_13e72_row1_col2\" class=\"data row1 col2\" >Competitor made better offer</td>\n",
              "    </tr>\n",
              "    <tr>\n",
              "      <td id=\"T_13e72_row2_col0\" class=\"data row2 col0\" >1658-BYGOY</td>\n",
              "      <td id=\"T_13e72_row2_col1\" class=\"data row2 col1\" >Churned</td>\n",
              "      <td id=\"T_13e72_row2_col2\" class=\"data row2 col2\" >Competitor made better offer</td>\n",
              "    </tr>\n",
              "    <tr>\n",
              "      <td id=\"T_13e72_row3_col0\" class=\"data row3 col0\" >4598-XLKNJ</td>\n",
              "      <td id=\"T_13e72_row3_col1\" class=\"data row3 col1\" >Churned</td>\n",
              "      <td id=\"T_13e72_row3_col2\" class=\"data row3 col2\" >Limited range of services</td>\n",
              "    </tr>\n",
              "    <tr>\n",
              "      <td id=\"T_13e72_row4_col0\" class=\"data row4 col0\" >4846-WHAFZ</td>\n",
              "      <td id=\"T_13e72_row4_col1\" class=\"data row4 col1\" >Churned</td>\n",
              "      <td id=\"T_13e72_row4_col2\" class=\"data row4 col2\" >Extra data charges</td>\n",
              "    </tr>\n",
              "    <tr>\n",
              "      <td id=\"T_13e72_row5_col0\" class=\"data row5 col0\" >4412-YLTKF</td>\n",
              "      <td id=\"T_13e72_row5_col1\" class=\"data row5 col1\" >Churned</td>\n",
              "      <td id=\"T_13e72_row5_col2\" class=\"data row5 col2\" >Competitor had better devices</td>\n",
              "    </tr>\n",
              "    <tr>\n",
              "      <td id=\"T_13e72_row6_col0\" class=\"data row6 col0\" >0390-DCFDQ</td>\n",
              "      <td id=\"T_13e72_row6_col1\" class=\"data row6 col1\" >Churned</td>\n",
              "      <td id=\"T_13e72_row6_col2\" class=\"data row6 col2\" >Don't know</td>\n",
              "    </tr>\n",
              "    <tr>\n",
              "      <td id=\"T_13e72_row7_col0\" class=\"data row7 col0\" >3445-HXXGF</td>\n",
              "      <td id=\"T_13e72_row7_col1\" class=\"data row7 col1\" >Churned</td>\n",
              "      <td id=\"T_13e72_row7_col2\" class=\"data row7 col2\" >Service dissatisfaction</td>\n",
              "    </tr>\n",
              "    <tr>\n",
              "      <td id=\"T_13e72_row8_col0\" class=\"data row8 col0\" >2656-FMOKZ</td>\n",
              "      <td id=\"T_13e72_row8_col1\" class=\"data row8 col1\" >Churned</td>\n",
              "      <td id=\"T_13e72_row8_col2\" class=\"data row8 col2\" >Limited range of services</td>\n",
              "    </tr>\n",
              "    <tr>\n",
              "      <td id=\"T_13e72_row9_col0\" class=\"data row9 col0\" >2070-FNEXE</td>\n",
              "      <td id=\"T_13e72_row9_col1\" class=\"data row9 col1\" >Churned</td>\n",
              "      <td id=\"T_13e72_row9_col2\" class=\"data row9 col2\" >Lack of affordable download/upload speed</td>\n",
              "    </tr>\n",
              "  </tbody>\n",
              "</table>\n"
            ],
            "text/plain": [
              "<pandas.io.formats.style.Styler at 0x1748a6850>"
            ]
          },
          "metadata": {},
          "output_type": "display_data"
        }
      ],
      "source": [
        "SELECT customer_id, status, churn_reason FROM `telco_churn.customer_status` LIMIT 10"
      ]
    },
    {
      "cell_type": "markdown",
      "metadata": {
        "id": "R-SNW7CX6wT4"
      },
      "source": [
        "#### <i><b><span style='color:#55679C'>Quest</span> : Tampilkan 3 data teratas untuk kolom customer_id, cltv dan status pada tabel customer_status, namun ubah sementara nama kolom cltv menjadi customer_lifetime_value agar lebih mudah diinterpretasikan!</b></i>"
      ]
    },
    {
      "cell_type": "code",
      "execution_count": null,
      "metadata": {
        "id": "p9HaBN5E6wT4",
        "outputId": "3681d186-251e-481c-e661-9be092c0ece5"
      },
      "outputs": [
        {
          "data": {
            "text/html": [
              "<style type=\"text/css\">\n",
              "</style>\n",
              "<table id=\"T_0c889\">\n",
              "  <thead>\n",
              "    <tr>\n",
              "      <th id=\"T_0c889_level0_col0\" class=\"col_heading level0 col0\" >customer_id</th>\n",
              "      <th id=\"T_0c889_level0_col1\" class=\"col_heading level0 col1\" >customer_lifetime_value</th>\n",
              "      <th id=\"T_0c889_level0_col2\" class=\"col_heading level0 col2\" >status</th>\n",
              "    </tr>\n",
              "  </thead>\n",
              "  <tbody>\n",
              "    <tr>\n",
              "      <td id=\"T_0c889_row0_col0\" class=\"data row0 col0\" >8779-QRDMV</td>\n",
              "      <td id=\"T_0c889_row0_col1\" class=\"data row0 col1\" >5433</td>\n",
              "      <td id=\"T_0c889_row0_col2\" class=\"data row0 col2\" >Churned</td>\n",
              "    </tr>\n",
              "    <tr>\n",
              "      <td id=\"T_0c889_row1_col0\" class=\"data row1 col0\" >7495-OOKFY</td>\n",
              "      <td id=\"T_0c889_row1_col1\" class=\"data row1 col1\" >5302</td>\n",
              "      <td id=\"T_0c889_row1_col2\" class=\"data row1 col2\" >Churned</td>\n",
              "    </tr>\n",
              "    <tr>\n",
              "      <td id=\"T_0c889_row2_col0\" class=\"data row2 col0\" >1658-BYGOY</td>\n",
              "      <td id=\"T_0c889_row2_col1\" class=\"data row2 col1\" >3179</td>\n",
              "      <td id=\"T_0c889_row2_col2\" class=\"data row2 col2\" >Churned</td>\n",
              "    </tr>\n",
              "  </tbody>\n",
              "</table>\n"
            ],
            "text/plain": [
              "<pandas.io.formats.style.Styler at 0x1748a43d0>"
            ]
          },
          "metadata": {},
          "output_type": "display_data"
        }
      ],
      "source": [
        "SELECT customer_id, cltv AS customer_lifetime_value, status  FROM `telco_churn.customer_status` LIMIT 3"
      ]
    },
    {
      "cell_type": "markdown",
      "metadata": {
        "id": "tzF4wZeK6wT6"
      },
      "source": [
        "Data Source : <i>https://www.ibm.com/docs/en/cognos-analytics/11.1.0?topic=samples-telco-customer-churn</i>\n",
        "\n",
        "---\n",
        "\n",
        "<br>\n",
        "<a href=\"https://www.linkedin.com/in/yogapratama90s/\"><img src=\"https://img.shields.io/badge/-© 2024 Yoga Pratama-417DAC?style=for-the-badge&logoColor=white\"/></a>"
      ]
    }
  ],
  "metadata": {
    "kernelspec": {
      "display_name": "Python 3",
      "language": "python",
      "name": "python3"
    },
    "language_info": {
      "codemirror_mode": {
        "name": "ipython",
        "version": 3
      },
      "file_extension": ".py",
      "mimetype": "text/x-python",
      "name": "python",
      "nbconvert_exporter": "python",
      "pygments_lexer": "ipython3",
      "version": "3.11.8"
    },
    "colab": {
      "provenance": []
    }
  },
  "nbformat": 4,
  "nbformat_minor": 0
}
