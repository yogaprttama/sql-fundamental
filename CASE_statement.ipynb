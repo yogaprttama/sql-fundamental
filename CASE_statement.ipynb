{
  "cells": [
    {
      "cell_type": "markdown",
      "metadata": {
        "id": "FzXMGIQI7obJ"
      },
      "source": [
        "<a id=\"B\"></a>\n",
        "# <b>B. <span style='color:#0B2F9F'><code>CASE-WHEN</code></b>\n",
        "\n",
        "`CASE` adalah sebuah ekspresi dalam SQL yang digunakan untuk melakukan logika kondisional. `CASE` sering digunakan untuk mengubah nilai yang ditampilkan dalam query berdasarkan kondisi tertentu. Untuk dapat menggunakan perintah `CASE` gunakan sintaks umum berikut\n",
        "\n",
        "SELECT<br>\n",
        "    CASE<br>\n",
        "        WHEN condition1 THEN result1<br>\n",
        "        WHEN condition2 THEN result2<br>\n",
        "        ...<br>\n",
        "        ELSE default_result<br>\n",
        "    END AS alias_name<br>\n",
        "FROM table_name<br>\n"
      ]
    },
    {
      "cell_type": "markdown",
      "metadata": {
        "id": "FEXnZORH7obJ"
      },
      "source": [
        "#### <i><b><span style='color:#55679C'>Quest</span> : Tampilkan kolom customer_id, monthly_charge dan monthly_charge_type pada tabel customer_service, dengan ketentuan</b></i><br>\n",
        "<ul>\n",
        "<li>Jika monthly_charge < 50.2 maka monthly_charge_type = 'Low Charge'</li>\n",
        "<li>Jika 50.2 <= monthly_charge < 83.2 maka monthly_charge_type = 'Medium Charge'</li>\n",
        "<li>Jika monthly_charge >= 83.2 50.2 maka monthly_charge_type = 'High Charge'</li>\n",
        "</ul>"
      ]
    },
    {
      "cell_type": "code",
      "execution_count": null,
      "metadata": {
        "id": "l-omAZBf7obJ",
        "outputId": "e35f4775-9897-4ba0-a5df-ae2b69caad66"
      },
      "outputs": [
        {
          "data": {
            "text/html": [
              "<style type=\"text/css\">\n",
              "</style>\n",
              "<table id=\"T_7e18e\">\n",
              "  <thead>\n",
              "    <tr>\n",
              "      <th id=\"T_7e18e_level0_col0\" class=\"col_heading level0 col0\" >customer_id</th>\n",
              "      <th id=\"T_7e18e_level0_col1\" class=\"col_heading level0 col1\" >monthly_charge</th>\n",
              "      <th id=\"T_7e18e_level0_col2\" class=\"col_heading level0 col2\" >monthly_charge_type</th>\n",
              "    </tr>\n",
              "  </thead>\n",
              "  <tbody>\n",
              "    <tr>\n",
              "      <td id=\"T_7e18e_row0_col0\" class=\"data row0 col0\" >8779-QRDMV</td>\n",
              "      <td id=\"T_7e18e_row0_col1\" class=\"data row0 col1\" >39.65</td>\n",
              "      <td id=\"T_7e18e_row0_col2\" class=\"data row0 col2\" >Low Charge</td>\n",
              "    </tr>\n",
              "    <tr>\n",
              "      <td id=\"T_7e18e_row1_col0\" class=\"data row1 col0\" >7495-OOKFY</td>\n",
              "      <td id=\"T_7e18e_row1_col1\" class=\"data row1 col1\" >80.65</td>\n",
              "      <td id=\"T_7e18e_row1_col2\" class=\"data row1 col2\" >Medium Charge</td>\n",
              "    </tr>\n",
              "    <tr>\n",
              "      <td id=\"T_7e18e_row2_col0\" class=\"data row2 col0\" >1658-BYGOY</td>\n",
              "      <td id=\"T_7e18e_row2_col1\" class=\"data row2 col1\" >95.45</td>\n",
              "      <td id=\"T_7e18e_row2_col2\" class=\"data row2 col2\" >High Charge</td>\n",
              "    </tr>\n",
              "    <tr>\n",
              "      <td id=\"T_7e18e_row3_col0\" class=\"data row3 col0\" >4598-XLKNJ</td>\n",
              "      <td id=\"T_7e18e_row3_col1\" class=\"data row3 col1\" >98.5</td>\n",
              "      <td id=\"T_7e18e_row3_col2\" class=\"data row3 col2\" >High Charge</td>\n",
              "    </tr>\n",
              "    <tr>\n",
              "      <td id=\"T_7e18e_row4_col0\" class=\"data row4 col0\" >4846-WHAFZ</td>\n",
              "      <td id=\"T_7e18e_row4_col1\" class=\"data row4 col1\" >76.5</td>\n",
              "      <td id=\"T_7e18e_row4_col2\" class=\"data row4 col2\" >Medium Charge</td>\n",
              "    </tr>\n",
              "    <tr>\n",
              "      <td id=\"T_7e18e_row5_col0\" class=\"data row5 col0\" >4412-YLTKF</td>\n",
              "      <td id=\"T_7e18e_row5_col1\" class=\"data row5 col1\" >78.05</td>\n",
              "      <td id=\"T_7e18e_row5_col2\" class=\"data row5 col2\" >Medium Charge</td>\n",
              "    </tr>\n",
              "    <tr>\n",
              "      <td id=\"T_7e18e_row6_col0\" class=\"data row6 col0\" >0390-DCFDQ</td>\n",
              "      <td id=\"T_7e18e_row6_col1\" class=\"data row6 col1\" >70.45</td>\n",
              "      <td id=\"T_7e18e_row6_col2\" class=\"data row6 col2\" >Medium Charge</td>\n",
              "    </tr>\n",
              "    <tr>\n",
              "      <td id=\"T_7e18e_row7_col0\" class=\"data row7 col0\" >3445-HXXGF</td>\n",
              "      <td id=\"T_7e18e_row7_col1\" class=\"data row7 col1\" >45.3</td>\n",
              "      <td id=\"T_7e18e_row7_col2\" class=\"data row7 col2\" >Low Charge</td>\n",
              "    </tr>\n",
              "    <tr>\n",
              "      <td id=\"T_7e18e_row8_col0\" class=\"data row8 col0\" >2656-FMOKZ</td>\n",
              "      <td id=\"T_7e18e_row8_col1\" class=\"data row8 col1\" >74.45</td>\n",
              "      <td id=\"T_7e18e_row8_col2\" class=\"data row8 col2\" >Medium Charge</td>\n",
              "    </tr>\n",
              "    <tr>\n",
              "      <td id=\"T_7e18e_row9_col0\" class=\"data row9 col0\" >2070-FNEXE</td>\n",
              "      <td id=\"T_7e18e_row9_col1\" class=\"data row9 col1\" >76.45</td>\n",
              "      <td id=\"T_7e18e_row9_col2\" class=\"data row9 col2\" >Medium Charge</td>\n",
              "    </tr>\n",
              "    <tr>\n",
              "      <td id=\"T_7e18e_row10_col0\" class=\"data row10 col0\" >...</td>\n",
              "      <td id=\"T_7e18e_row10_col1\" class=\"data row10 col1\" >...</td>\n",
              "      <td id=\"T_7e18e_row10_col2\" class=\"data row10 col2\" >...</td>\n",
              "    </tr>\n",
              "  </tbody>\n",
              "</table>\n"
            ],
            "text/plain": [
              "<pandas.io.formats.style.Styler at 0x29502e57a10>"
            ]
          },
          "metadata": {},
          "output_type": "display_data"
        }
      ],
      "source": [
        "SELECT\n",
        "  customer_id,\n",
        "  monthly_charge,\n",
        "  CASE\n",
        "    WHEN monthly_charge < 50.2 THEN 'Low Charges'\n",
        "    WHEN monthly_charge BETWEEN 50.2 AND 83.2 THEN 'Medium Charges'\n",
        "    ELSE 'High Charges'\n",
        "  END AS monthly_charge_type\n",
        "FROM\n",
        "  `telco_churn.telco_services`"
      ]
    },
    {
      "cell_type": "markdown",
      "metadata": {
        "id": "CUIbQPSh7obJ"
      },
      "source": [
        "#### <i><b><span style='color:#55679C'>Quest</span> : Tampilkan kolom customer_id, phone_service, internet_service dan phone_internet_type pada tabel customer_service, dengan ketentuan</b></i><br>\n",
        "<ul>\n",
        "<li>Jika customer menggunakan layanan Telepon & Internet, maka phone_internet_type = Phone & Internet</li>\n",
        "<li>Jika customer menggunakan layanan Telepon namun tidak menggunakan layanan Internet, maka phone_internet_type = Phone Only</li>\n",
        "<li>Jika customer tidak menggunakan layanan Telepon namun menggunakan layanan Internet, maka phone_internet_type = Internet Only</li>\n",
        "<li>Jika customer tidak menggunakan kedua layanan tersebut, maka phone_internet_type = No Phone & Internet</li>\n",
        "</ul>"
      ]
    },
    {
      "cell_type": "code",
      "execution_count": null,
      "metadata": {
        "id": "M-K6G9ut7obJ",
        "outputId": "653cbd55-873d-4395-a84a-c1f89c6c3596"
      },
      "outputs": [
        {
          "data": {
            "text/html": [
              "<style type=\"text/css\">\n",
              "</style>\n",
              "<table id=\"T_bf8ea\">\n",
              "  <thead>\n",
              "    <tr>\n",
              "      <th id=\"T_bf8ea_level0_col0\" class=\"col_heading level0 col0\" >customer_id</th>\n",
              "      <th id=\"T_bf8ea_level0_col1\" class=\"col_heading level0 col1\" >phone_service</th>\n",
              "      <th id=\"T_bf8ea_level0_col2\" class=\"col_heading level0 col2\" >internet_service</th>\n",
              "      <th id=\"T_bf8ea_level0_col3\" class=\"col_heading level0 col3\" >phone_internet_type</th>\n",
              "    </tr>\n",
              "  </thead>\n",
              "  <tbody>\n",
              "    <tr>\n",
              "      <td id=\"T_bf8ea_row0_col0\" class=\"data row0 col0\" >8779-QRDMV</td>\n",
              "      <td id=\"T_bf8ea_row0_col1\" class=\"data row0 col1\" >No</td>\n",
              "      <td id=\"T_bf8ea_row0_col2\" class=\"data row0 col2\" >Yes</td>\n",
              "      <td id=\"T_bf8ea_row0_col3\" class=\"data row0 col3\" >Internet Only</td>\n",
              "    </tr>\n",
              "    <tr>\n",
              "      <td id=\"T_bf8ea_row1_col0\" class=\"data row1 col0\" >7495-OOKFY</td>\n",
              "      <td id=\"T_bf8ea_row1_col1\" class=\"data row1 col1\" >Yes</td>\n",
              "      <td id=\"T_bf8ea_row1_col2\" class=\"data row1 col2\" >Yes</td>\n",
              "      <td id=\"T_bf8ea_row1_col3\" class=\"data row1 col3\" >Phone & Internet</td>\n",
              "    </tr>\n",
              "    <tr>\n",
              "      <td id=\"T_bf8ea_row2_col0\" class=\"data row2 col0\" >1658-BYGOY</td>\n",
              "      <td id=\"T_bf8ea_row2_col1\" class=\"data row2 col1\" >Yes</td>\n",
              "      <td id=\"T_bf8ea_row2_col2\" class=\"data row2 col2\" >Yes</td>\n",
              "      <td id=\"T_bf8ea_row2_col3\" class=\"data row2 col3\" >Phone & Internet</td>\n",
              "    </tr>\n",
              "    <tr>\n",
              "      <td id=\"T_bf8ea_row3_col0\" class=\"data row3 col0\" >4598-XLKNJ</td>\n",
              "      <td id=\"T_bf8ea_row3_col1\" class=\"data row3 col1\" >Yes</td>\n",
              "      <td id=\"T_bf8ea_row3_col2\" class=\"data row3 col2\" >Yes</td>\n",
              "      <td id=\"T_bf8ea_row3_col3\" class=\"data row3 col3\" >Phone & Internet</td>\n",
              "    </tr>\n",
              "    <tr>\n",
              "      <td id=\"T_bf8ea_row4_col0\" class=\"data row4 col0\" >4846-WHAFZ</td>\n",
              "      <td id=\"T_bf8ea_row4_col1\" class=\"data row4 col1\" >Yes</td>\n",
              "      <td id=\"T_bf8ea_row4_col2\" class=\"data row4 col2\" >Yes</td>\n",
              "      <td id=\"T_bf8ea_row4_col3\" class=\"data row4 col3\" >Phone & Internet</td>\n",
              "    </tr>\n",
              "    <tr>\n",
              "      <td id=\"T_bf8ea_row5_col0\" class=\"data row5 col0\" >4412-YLTKF</td>\n",
              "      <td id=\"T_bf8ea_row5_col1\" class=\"data row5 col1\" >Yes</td>\n",
              "      <td id=\"T_bf8ea_row5_col2\" class=\"data row5 col2\" >Yes</td>\n",
              "      <td id=\"T_bf8ea_row5_col3\" class=\"data row5 col3\" >Phone & Internet</td>\n",
              "    </tr>\n",
              "    <tr>\n",
              "      <td id=\"T_bf8ea_row6_col0\" class=\"data row6 col0\" >0390-DCFDQ</td>\n",
              "      <td id=\"T_bf8ea_row6_col1\" class=\"data row6 col1\" >Yes</td>\n",
              "      <td id=\"T_bf8ea_row6_col2\" class=\"data row6 col2\" >Yes</td>\n",
              "      <td id=\"T_bf8ea_row6_col3\" class=\"data row6 col3\" >Phone & Internet</td>\n",
              "    </tr>\n",
              "    <tr>\n",
              "      <td id=\"T_bf8ea_row7_col0\" class=\"data row7 col0\" >3445-HXXGF</td>\n",
              "      <td id=\"T_bf8ea_row7_col1\" class=\"data row7 col1\" >No</td>\n",
              "      <td id=\"T_bf8ea_row7_col2\" class=\"data row7 col2\" >Yes</td>\n",
              "      <td id=\"T_bf8ea_row7_col3\" class=\"data row7 col3\" >Internet Only</td>\n",
              "    </tr>\n",
              "    <tr>\n",
              "      <td id=\"T_bf8ea_row8_col0\" class=\"data row8 col0\" >2656-FMOKZ</td>\n",
              "      <td id=\"T_bf8ea_row8_col1\" class=\"data row8 col1\" >Yes</td>\n",
              "      <td id=\"T_bf8ea_row8_col2\" class=\"data row8 col2\" >Yes</td>\n",
              "      <td id=\"T_bf8ea_row8_col3\" class=\"data row8 col3\" >Phone & Internet</td>\n",
              "    </tr>\n",
              "    <tr>\n",
              "      <td id=\"T_bf8ea_row9_col0\" class=\"data row9 col0\" >2070-FNEXE</td>\n",
              "      <td id=\"T_bf8ea_row9_col1\" class=\"data row9 col1\" >Yes</td>\n",
              "      <td id=\"T_bf8ea_row9_col2\" class=\"data row9 col2\" >Yes</td>\n",
              "      <td id=\"T_bf8ea_row9_col3\" class=\"data row9 col3\" >Phone & Internet</td>\n",
              "    </tr>\n",
              "    <tr>\n",
              "      <td id=\"T_bf8ea_row10_col0\" class=\"data row10 col0\" >...</td>\n",
              "      <td id=\"T_bf8ea_row10_col1\" class=\"data row10 col1\" >...</td>\n",
              "      <td id=\"T_bf8ea_row10_col2\" class=\"data row10 col2\" >...</td>\n",
              "      <td id=\"T_bf8ea_row10_col3\" class=\"data row10 col3\" >...</td>\n",
              "    </tr>\n",
              "  </tbody>\n",
              "</table>\n"
            ],
            "text/plain": [
              "<pandas.io.formats.style.Styler at 0x29502e57a10>"
            ]
          },
          "metadata": {},
          "output_type": "display_data"
        }
      ],
      "source": [
        "SELECT\n",
        "  customer_id,\n",
        "  phone_service,\n",
        "  internet_service,\n",
        " CASE\n",
        "    WHEN phone_service = true AND internet_service = false THEN 'Phone & Internet'\n",
        "    WHEN phone_service = true AND internet_service = false THEN 'Phone Only'\n",
        "    WHEN phone_service = false AND internet_service = true THEN 'Internet Only'\n",
        "    ELSE 'No Phone & Internet'\n",
        "END\n",
        "  AS internet_phone_type\n",
        "FROM\n",
        "  `telco_churn.telco_services`"
      ]
    },
    {
      "cell_type": "markdown",
      "metadata": {
        "id": "YD0GlaAp7obJ"
      },
      "source": [
        "Data Source : <i>https://www.ibm.com/docs/en/cognos-analytics/11.1.0?topic=samples-telco-customer-churn</i>\n",
        "\n",
        "---\n",
        "\n",
        "<br>\n",
        "<a href=\"https://www.linkedin.com/in/yogapratama90s/\"><img src=\"https://img.shields.io/badge/-© 2025 Yoga Pratama-417DAC?style=for-the-badge&logoColor=white\"/></a>"
      ]
    },
    {
      "cell_type": "markdown",
      "metadata": {
        "id": "-dZcCugt7obJ"
      },
      "source": [
        "<i>Powered by :</i><br><br>\n",
        "<img src=\"https://dqlab.id/files/dqlab/cache/87e30118ebba5ec7d96f6ea8c9dcc10b_x_118_X_55.png\">"
      ]
    }
  ],
  "metadata": {
    "kernelspec": {
      "display_name": "base",
      "language": "python",
      "name": "python3"
    },
    "language_info": {
      "codemirror_mode": {
        "name": "ipython",
        "version": 3
      },
      "file_extension": ".py",
      "mimetype": "text/x-python",
      "name": "python",
      "nbconvert_exporter": "python",
      "pygments_lexer": "ipython3",
      "version": "3.11.3"
    },
    "colab": {
      "provenance": [],
      "collapsed_sections": [
        "5iC6Jfjv7obD",
        "FzXMGIQI7obJ"
      ]
    }
  },
  "nbformat": 4,
  "nbformat_minor": 0
}
