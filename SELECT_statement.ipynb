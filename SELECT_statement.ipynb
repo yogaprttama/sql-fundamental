{
  "cells": [
    {
      "cell_type": "markdown",
      "metadata": {
        "id": "vMRdrNTW6wTx"
      },
      "source": [
        "<a id=\"A\"></a>\n",
        "# <b>A. <span style='color:#0B2F9F'><code>SELECT</code></span></b>\n",
        "\n",
        "Perintah `SELECT` bertujuan untuk mengambil dan menampilkan data dari tabel di database. Ini penting untuk analisis karena saat menganalisa data perlu mengakses data yang relevan untuk dianalisis seperti mengidentifikasi pola, tren, dan informasi penting lainnya."
      ]
    },
    {
      "cell_type": "markdown",
      "metadata": {
        "id": "OKyNKuH66wTz"
      },
      "source": [
        "<a id=\"A.1.\"></a>\n",
        "## <b>A.1. <span style='color:#0B2F9F'>Menampilkan Semua Data pada Satu Tabel</span></b>\n",
        "\n",
        "Untuk dapat menampilkan semua isi (data) pada sebuah tabel, eksekusi perintah\n",
        "\n",
        "<img src=\"https://raw.githubusercontent.com/bachtiyarma/Material/main/Image/Materi-SQL/SQL-Select1.png\" width=\"50%\">\n",
        "\n",
        "Dalam perintah `SELECT`, tanda bintang (*) digunakan untuk memilih semua kolom dari tabel yang disebutkan. Cara ini merupakan cara cepat untuk mengambil seluruh data tanpa perlu menyebutkan nama-nama kolom satu per satu.\n",
        "\n",
        "<i>docs : <a href=\"https://dev.mysql.com/doc/refman/8.4/en/selecting-all.html\">https://dev.mysql.com/doc/refman/8.4/en/selecting-all.html</a></i>"
      ]
    },
    {
      "cell_type": "markdown",
      "metadata": {
        "id": "dYkuZ9K_6wTz"
      },
      "source": [
        "#### <i><b><span style='color:#55679C'>Quest</span> : Tampilkan semua data pada tabel customer_status!</b></i>"
      ]
    },
    {
      "cell_type": "code",
      "execution_count": null,
      "metadata": {
        "id": "kNKd80JC6wT0",
        "outputId": "245d4f72-ad51-4f1a-f15c-7b4193c495db"
      },
      "outputs": [
        {
          "data": {
            "text/html": [
              "<style type=\"text/css\">\n",
              "</style>\n",
              "<table id=\"T_5f396\">\n",
              "  <thead>\n",
              "    <tr>\n",
              "      <th id=\"T_5f396_level0_col0\" class=\"col_heading level0 col0\" >customer_id</th>\n",
              "      <th id=\"T_5f396_level0_col1\" class=\"col_heading level0 col1\" >satisfaction_score</th>\n",
              "      <th id=\"T_5f396_level0_col2\" class=\"col_heading level0 col2\" >status</th>\n",
              "      <th id=\"T_5f396_level0_col3\" class=\"col_heading level0 col3\" >churn_label</th>\n",
              "      <th id=\"T_5f396_level0_col4\" class=\"col_heading level0 col4\" >churn_score</th>\n",
              "      <th id=\"T_5f396_level0_col5\" class=\"col_heading level0 col5\" >cltv</th>\n",
              "      <th id=\"T_5f396_level0_col6\" class=\"col_heading level0 col6\" >churn_category</th>\n",
              "      <th id=\"T_5f396_level0_col7\" class=\"col_heading level0 col7\" >churn_reason</th>\n",
              "    </tr>\n",
              "  </thead>\n",
              "  <tbody>\n",
              "    <tr>\n",
              "      <td id=\"T_5f396_row0_col0\" class=\"data row0 col0\" >2737-WFVYW</td>\n",
              "      <td id=\"T_5f396_row0_col1\" class=\"data row0 col1\" >1</td>\n",
              "      <td id=\"T_5f396_row0_col2\" class=\"data row0 col2\" >Churned</td>\n",
              "      <td id=\"T_5f396_row0_col3\" class=\"data row0 col3\" >Yes</td>\n",
              "      <td id=\"T_5f396_row0_col4\" class=\"data row0 col4\" >74</td>\n",
              "      <td id=\"T_5f396_row0_col5\" class=\"data row0 col5\" >4566</td>\n",
              "      <td id=\"T_5f396_row0_col6\" class=\"data row0 col6\" >Dissatisfaction</td>\n",
              "      <td id=\"T_5f396_row0_col7\" class=\"data row0 col7\" >Product dissatisfaction</td>\n",
              "    </tr>\n",
              "    <tr>\n",
              "      <td id=\"T_5f396_row1_col0\" class=\"data row1 col0\" >5158-RIVOP</td>\n",
              "      <td id=\"T_5f396_row1_col1\" class=\"data row1 col1\" >5</td>\n",
              "      <td id=\"T_5f396_row1_col2\" class=\"data row1 col2\" >Stayed</td>\n",
              "      <td id=\"T_5f396_row1_col3\" class=\"data row1 col3\" >No</td>\n",
              "      <td id=\"T_5f396_row1_col4\" class=\"data row1 col4\" >63</td>\n",
              "      <td id=\"T_5f396_row1_col5\" class=\"data row1 col5\" >5359</td>\n",
              "      <td id=\"T_5f396_row1_col6\" class=\"data row1 col6\" >nan</td>\n",
              "      <td id=\"T_5f396_row1_col7\" class=\"data row1 col7\" >nan</td>\n",
              "    </tr>\n",
              "    <tr>\n",
              "      <td id=\"T_5f396_row2_col0\" class=\"data row2 col0\" >9095-HFAFX</td>\n",
              "      <td id=\"T_5f396_row2_col1\" class=\"data row2 col1\" >2</td>\n",
              "      <td id=\"T_5f396_row2_col2\" class=\"data row2 col2\" >Churned</td>\n",
              "      <td id=\"T_5f396_row2_col3\" class=\"data row2 col3\" >Yes</td>\n",
              "      <td id=\"T_5f396_row2_col4\" class=\"data row2 col4\" >96</td>\n",
              "      <td id=\"T_5f396_row2_col5\" class=\"data row2 col5\" >3718</td>\n",
              "      <td id=\"T_5f396_row2_col6\" class=\"data row2 col6\" >Competitor</td>\n",
              "      <td id=\"T_5f396_row2_col7\" class=\"data row2 col7\" >Competitor made better offer</td>\n",
              "    </tr>\n",
              "    <tr>\n",
              "      <td id=\"T_5f396_row3_col0\" class=\"data row3 col0\" >3580-REOAC</td>\n",
              "      <td id=\"T_5f396_row3_col1\" class=\"data row3 col1\" >2</td>\n",
              "      <td id=\"T_5f396_row3_col2\" class=\"data row3 col2\" >Churned</td>\n",
              "      <td id=\"T_5f396_row3_col3\" class=\"data row3 col3\" >Yes</td>\n",
              "      <td id=\"T_5f396_row3_col4\" class=\"data row3 col4\" >83</td>\n",
              "      <td id=\"T_5f396_row3_col5\" class=\"data row3 col5\" >4061</td>\n",
              "      <td id=\"T_5f396_row3_col6\" class=\"data row3 col6\" >Competitor</td>\n",
              "      <td id=\"T_5f396_row3_col7\" class=\"data row3 col7\" >Competitor made better offer</td>\n",
              "    </tr>\n",
              "    <tr>\n",
              "      <td id=\"T_5f396_row4_col0\" class=\"data row4 col0\" >9705-IOVQQ</td>\n",
              "      <td id=\"T_5f396_row4_col1\" class=\"data row4 col1\" >5</td>\n",
              "      <td id=\"T_5f396_row4_col2\" class=\"data row4 col2\" >Stayed</td>\n",
              "      <td id=\"T_5f396_row4_col3\" class=\"data row4 col3\" >No</td>\n",
              "      <td id=\"T_5f396_row4_col4\" class=\"data row4 col4\" >20</td>\n",
              "      <td id=\"T_5f396_row4_col5\" class=\"data row4 col5\" >5177</td>\n",
              "      <td id=\"T_5f396_row4_col6\" class=\"data row4 col6\" >nan</td>\n",
              "      <td id=\"T_5f396_row4_col7\" class=\"data row4 col7\" >nan</td>\n",
              "    </tr>\n",
              "    <tr>\n",
              "      <td id=\"T_5f396_row5_col0\" class=\"data row5 col0\" >7636-OWBPG</td>\n",
              "      <td id=\"T_5f396_row5_col1\" class=\"data row5 col1\" >3</td>\n",
              "      <td id=\"T_5f396_row5_col2\" class=\"data row5 col2\" >Stayed</td>\n",
              "      <td id=\"T_5f396_row5_col3\" class=\"data row5 col3\" >No</td>\n",
              "      <td id=\"T_5f396_row5_col4\" class=\"data row5 col4\" >27</td>\n",
              "      <td id=\"T_5f396_row5_col5\" class=\"data row5 col5\" >3606</td>\n",
              "      <td id=\"T_5f396_row5_col6\" class=\"data row5 col6\" >nan</td>\n",
              "      <td id=\"T_5f396_row5_col7\" class=\"data row5 col7\" >nan</td>\n",
              "    </tr>\n",
              "    <tr>\n",
              "      <td id=\"T_5f396_row6_col0\" class=\"data row6 col0\" >3235-ETOOB</td>\n",
              "      <td id=\"T_5f396_row6_col1\" class=\"data row6 col1\" >2</td>\n",
              "      <td id=\"T_5f396_row6_col2\" class=\"data row6 col2\" >Churned</td>\n",
              "      <td id=\"T_5f396_row6_col3\" class=\"data row6 col3\" >Yes</td>\n",
              "      <td id=\"T_5f396_row6_col4\" class=\"data row6 col4\" >88</td>\n",
              "      <td id=\"T_5f396_row6_col5\" class=\"data row6 col5\" >3683</td>\n",
              "      <td id=\"T_5f396_row6_col6\" class=\"data row6 col6\" >Competitor</td>\n",
              "      <td id=\"T_5f396_row6_col7\" class=\"data row6 col7\" >Competitor made better offer</td>\n",
              "    </tr>\n",
              "    <tr>\n",
              "      <td id=\"T_5f396_row7_col0\" class=\"data row7 col0\" >7176-WRTNX</td>\n",
              "      <td id=\"T_5f396_row7_col1\" class=\"data row7 col1\" >3</td>\n",
              "      <td id=\"T_5f396_row7_col2\" class=\"data row7 col2\" >Stayed</td>\n",
              "      <td id=\"T_5f396_row7_col3\" class=\"data row7 col3\" >No</td>\n",
              "      <td id=\"T_5f396_row7_col4\" class=\"data row7 col4\" >26</td>\n",
              "      <td id=\"T_5f396_row7_col5\" class=\"data row7 col5\" >4511</td>\n",
              "      <td id=\"T_5f396_row7_col6\" class=\"data row7 col6\" >nan</td>\n",
              "      <td id=\"T_5f396_row7_col7\" class=\"data row7 col7\" >nan</td>\n",
              "    </tr>\n",
              "    <tr>\n",
              "      <td id=\"T_5f396_row8_col0\" class=\"data row8 col0\" >7968-QUXNS</td>\n",
              "      <td id=\"T_5f396_row8_col1\" class=\"data row8 col1\" >4</td>\n",
              "      <td id=\"T_5f396_row8_col2\" class=\"data row8 col2\" >Stayed</td>\n",
              "      <td id=\"T_5f396_row8_col3\" class=\"data row8 col3\" >No</td>\n",
              "      <td id=\"T_5f396_row8_col4\" class=\"data row8 col4\" >68</td>\n",
              "      <td id=\"T_5f396_row8_col5\" class=\"data row8 col5\" >5920</td>\n",
              "      <td id=\"T_5f396_row8_col6\" class=\"data row8 col6\" >nan</td>\n",
              "      <td id=\"T_5f396_row8_col7\" class=\"data row8 col7\" >nan</td>\n",
              "    </tr>\n",
              "    <tr>\n",
              "      <td id=\"T_5f396_row9_col0\" class=\"data row9 col0\" >2904-GGUAZ</td>\n",
              "      <td id=\"T_5f396_row9_col1\" class=\"data row9 col1\" >4</td>\n",
              "      <td id=\"T_5f396_row9_col2\" class=\"data row9 col2\" >Stayed</td>\n",
              "      <td id=\"T_5f396_row9_col3\" class=\"data row9 col3\" >No</td>\n",
              "      <td id=\"T_5f396_row9_col4\" class=\"data row9 col4\" >47</td>\n",
              "      <td id=\"T_5f396_row9_col5\" class=\"data row9 col5\" >5515</td>\n",
              "      <td id=\"T_5f396_row9_col6\" class=\"data row9 col6\" >nan</td>\n",
              "      <td id=\"T_5f396_row9_col7\" class=\"data row9 col7\" >nan</td>\n",
              "    </tr>\n",
              "    <tr>\n",
              "      <td id=\"T_5f396_row10_col0\" class=\"data row10 col0\" >...</td>\n",
              "      <td id=\"T_5f396_row10_col1\" class=\"data row10 col1\" >...</td>\n",
              "      <td id=\"T_5f396_row10_col2\" class=\"data row10 col2\" >...</td>\n",
              "      <td id=\"T_5f396_row10_col3\" class=\"data row10 col3\" >...</td>\n",
              "      <td id=\"T_5f396_row10_col4\" class=\"data row10 col4\" >...</td>\n",
              "      <td id=\"T_5f396_row10_col5\" class=\"data row10 col5\" >...</td>\n",
              "      <td id=\"T_5f396_row10_col6\" class=\"data row10 col6\" >...</td>\n",
              "      <td id=\"T_5f396_row10_col7\" class=\"data row10 col7\" >...</td>\n",
              "    </tr>\n",
              "  </tbody>\n",
              "</table>\n"
            ],
            "text/plain": [
              "<pandas.io.formats.style.Styler at 0x17745b550>"
            ]
          },
          "metadata": {},
          "output_type": "display_data"
        }
      ],
      "source": [
        "SELECT * FROM telco_churn.customer_status"
      ]
    },
    {
      "cell_type": "markdown",
      "metadata": {
        "id": "wnRYsRQm6wT0"
      },
      "source": [
        "<a id=\"A.2.\"></a>\n",
        "## <b>A.2. <span style='color:#0B2F9F'>Menampilkan Kolom Tertentu pada Satu Tabel</span></b>\n",
        "\n",
        "Untuk dapat menampilkan isi data pada kolom tertentu pada sebuah tabel, eksekusi perintah\n",
        "\n",
        "<img src=\"https://raw.githubusercontent.com/bachtiyarma/Material/main/Image/Materi-SQL/SQL-Select2.png\" width=\"50%\">\n",
        "\n",
        "Gunakan tanda koma untuk mendaftarkan nama kolom yang ingin ditampilkan. Kolom yang disebutkan pertama kali akan ditampilkan paling kiri begitu juga dengan kolom kedua hingga kolom terakhir.\n",
        "\n",
        "<i>docs : <a href=\"https://dev.mysql.com/doc/refman/8.4/en/selecting-columns.html\">https://dev.mysql.com/doc/refman/8.4/en/selecting-columns.html</a></i>"
      ]
    },
    {
      "cell_type": "markdown",
      "metadata": {
        "id": "k2KVYJh56wT1"
      },
      "source": [
        "#### <i><b><span style='color:#55679C'>Quest</span> : Tampilkan kolom customer_id, status dan churn_reason pada tabel customer_status!</b></i>"
      ]
    },
    {
      "cell_type": "code",
      "execution_count": null,
      "metadata": {
        "id": "ccbFYtQD6wT1",
        "outputId": "827476c1-5b63-444b-bbe8-c92e26d4433f"
      },
      "outputs": [
        {
          "data": {
            "text/html": [
              "<style type=\"text/css\">\n",
              "</style>\n",
              "<table id=\"T_a7796\">\n",
              "  <thead>\n",
              "    <tr>\n",
              "      <th id=\"T_a7796_level0_col0\" class=\"col_heading level0 col0\" >customer_id</th>\n",
              "      <th id=\"T_a7796_level0_col1\" class=\"col_heading level0 col1\" >status</th>\n",
              "      <th id=\"T_a7796_level0_col2\" class=\"col_heading level0 col2\" >churn_reason</th>\n",
              "    </tr>\n",
              "  </thead>\n",
              "  <tbody>\n",
              "    <tr>\n",
              "      <td id=\"T_a7796_row0_col0\" class=\"data row0 col0\" >5394-SVGJV</td>\n",
              "      <td id=\"T_a7796_row0_col1\" class=\"data row0 col1\" >Churned</td>\n",
              "      <td id=\"T_a7796_row0_col2\" class=\"data row0 col2\" >Competitor made better offer</td>\n",
              "    </tr>\n",
              "    <tr>\n",
              "      <td id=\"T_a7796_row1_col0\" class=\"data row1 col0\" >1194-HVAIF</td>\n",
              "      <td id=\"T_a7796_row1_col1\" class=\"data row1 col1\" >Stayed</td>\n",
              "      <td id=\"T_a7796_row1_col2\" class=\"data row1 col2\" >nan</td>\n",
              "    </tr>\n",
              "    <tr>\n",
              "      <td id=\"T_a7796_row2_col0\" class=\"data row2 col0\" >8384-FZBJK</td>\n",
              "      <td id=\"T_a7796_row2_col1\" class=\"data row2 col1\" >Stayed</td>\n",
              "      <td id=\"T_a7796_row2_col2\" class=\"data row2 col2\" >nan</td>\n",
              "    </tr>\n",
              "    <tr>\n",
              "      <td id=\"T_a7796_row3_col0\" class=\"data row3 col0\" >3908-MKIMJ</td>\n",
              "      <td id=\"T_a7796_row3_col1\" class=\"data row3 col1\" >Stayed</td>\n",
              "      <td id=\"T_a7796_row3_col2\" class=\"data row3 col2\" >nan</td>\n",
              "    </tr>\n",
              "    <tr>\n",
              "      <td id=\"T_a7796_row4_col0\" class=\"data row4 col0\" >3871-IKPYH</td>\n",
              "      <td id=\"T_a7796_row4_col1\" class=\"data row4 col1\" >Churned</td>\n",
              "      <td id=\"T_a7796_row4_col2\" class=\"data row4 col2\" >Moved</td>\n",
              "    </tr>\n",
              "    <tr>\n",
              "      <td id=\"T_a7796_row5_col0\" class=\"data row5 col0\" >3791-LGQCY</td>\n",
              "      <td id=\"T_a7796_row5_col1\" class=\"data row5 col1\" >Churned</td>\n",
              "      <td id=\"T_a7796_row5_col2\" class=\"data row5 col2\" >Attitude of support person</td>\n",
              "    </tr>\n",
              "    <tr>\n",
              "      <td id=\"T_a7796_row6_col0\" class=\"data row6 col0\" >6877-LGWXO</td>\n",
              "      <td id=\"T_a7796_row6_col1\" class=\"data row6 col1\" >Churned</td>\n",
              "      <td id=\"T_a7796_row6_col2\" class=\"data row6 col2\" >Attitude of support person</td>\n",
              "    </tr>\n",
              "    <tr>\n",
              "      <td id=\"T_a7796_row7_col0\" class=\"data row7 col0\" >4307-KTUMW</td>\n",
              "      <td id=\"T_a7796_row7_col1\" class=\"data row7 col1\" >Churned</td>\n",
              "      <td id=\"T_a7796_row7_col2\" class=\"data row7 col2\" >Attitude of service provider</td>\n",
              "    </tr>\n",
              "    <tr>\n",
              "      <td id=\"T_a7796_row8_col0\" class=\"data row8 col0\" >5174-ITUMV</td>\n",
              "      <td id=\"T_a7796_row8_col1\" class=\"data row8 col1\" >Stayed</td>\n",
              "      <td id=\"T_a7796_row8_col2\" class=\"data row8 col2\" >nan</td>\n",
              "    </tr>\n",
              "    <tr>\n",
              "      <td id=\"T_a7796_row9_col0\" class=\"data row9 col0\" >5609-CEBID</td>\n",
              "      <td id=\"T_a7796_row9_col1\" class=\"data row9 col1\" >Churned</td>\n",
              "      <td id=\"T_a7796_row9_col2\" class=\"data row9 col2\" >Competitor had better devices</td>\n",
              "    </tr>\n",
              "    <tr>\n",
              "      <td id=\"T_a7796_row10_col0\" class=\"data row10 col0\" >...</td>\n",
              "      <td id=\"T_a7796_row10_col1\" class=\"data row10 col1\" >...</td>\n",
              "      <td id=\"T_a7796_row10_col2\" class=\"data row10 col2\" >...</td>\n",
              "    </tr>\n",
              "  </tbody>\n",
              "</table>\n"
            ],
            "text/plain": [
              "<pandas.io.formats.style.Styler at 0x174a05090>"
            ]
          },
          "metadata": {},
          "output_type": "display_data"
        }
      ],
      "source": [
        "SELECT customer_id, status, churn_reason FROM telco_churn.customer_status"
      ]
    },
    {
      "cell_type": "markdown",
      "metadata": {
        "id": "AyMHvwxU6wT1"
      },
      "source": [
        "<a id=\"A.3.\"></a>\n",
        "## <b>A.3. <span style='color:#0B2F9F'>Mengubah Penyebutan Nama Kolom pada Satu Tabel</span></b>\n",
        "\n",
        "Terkadang perlu untuk memberi nama lain pada saat data ditampilkan untuk mempermudah pembacaan atau tujuan lainnya. Untuk mengubah nama sementara yang diberikan kepada kolom atau tabel dalam query bisa menggunakan perintah `AS` atau biasa disebut Alias. Untuk dapat mengubah nama kolom sementara pada sebuah tabel, eksekusi perintah\n",
        "\n",
        "<img src=\"https://raw.githubusercontent.com/bachtiyarma/Material/main/Image/Materi-SQL/SQL-Select3.png\" width=\"50%\">"
      ]
    },
    {
      "cell_type": "markdown",
      "metadata": {
        "id": "8QwTTwY86wT1"
      },
      "source": [
        "#### <i><b><span style='color:#55679C'>Quest</span> : Tampilkan kolom customer_id, cltv dan status pada tabel customer_status, namun ubah sementara nama kolom cltv menjadi customer_lifetime_value agar lebih mudah diinterpretasikan!</b></i>"
      ]
    },
    {
      "cell_type": "code",
      "execution_count": null,
      "metadata": {
        "id": "hKNO0ndu6wT1",
        "outputId": "2570e394-c15b-4d60-9e88-b78ee3ce2a55"
      },
      "outputs": [
        {
          "data": {
            "text/html": [
              "<style type=\"text/css\">\n",
              "</style>\n",
              "<table id=\"T_bbb2d\">\n",
              "  <thead>\n",
              "    <tr>\n",
              "      <th id=\"T_bbb2d_level0_col0\" class=\"col_heading level0 col0\" >customer_id</th>\n",
              "      <th id=\"T_bbb2d_level0_col1\" class=\"col_heading level0 col1\" >customer_lifetime_value</th>\n",
              "      <th id=\"T_bbb2d_level0_col2\" class=\"col_heading level0 col2\" >status</th>\n",
              "    </tr>\n",
              "  </thead>\n",
              "  <tbody>\n",
              "    <tr>\n",
              "      <td id=\"T_bbb2d_row0_col0\" class=\"data row0 col0\" >2737-WFVYW</td>\n",
              "      <td id=\"T_bbb2d_row0_col1\" class=\"data row0 col1\" >4566</td>\n",
              "      <td id=\"T_bbb2d_row0_col2\" class=\"data row0 col2\" >Churned</td>\n",
              "    </tr>\n",
              "    <tr>\n",
              "      <td id=\"T_bbb2d_row1_col0\" class=\"data row1 col0\" >5158-RIVOP</td>\n",
              "      <td id=\"T_bbb2d_row1_col1\" class=\"data row1 col1\" >5359</td>\n",
              "      <td id=\"T_bbb2d_row1_col2\" class=\"data row1 col2\" >Stayed</td>\n",
              "    </tr>\n",
              "    <tr>\n",
              "      <td id=\"T_bbb2d_row2_col0\" class=\"data row2 col0\" >9095-HFAFX</td>\n",
              "      <td id=\"T_bbb2d_row2_col1\" class=\"data row2 col1\" >3718</td>\n",
              "      <td id=\"T_bbb2d_row2_col2\" class=\"data row2 col2\" >Churned</td>\n",
              "    </tr>\n",
              "    <tr>\n",
              "      <td id=\"T_bbb2d_row3_col0\" class=\"data row3 col0\" >3580-REOAC</td>\n",
              "      <td id=\"T_bbb2d_row3_col1\" class=\"data row3 col1\" >4061</td>\n",
              "      <td id=\"T_bbb2d_row3_col2\" class=\"data row3 col2\" >Churned</td>\n",
              "    </tr>\n",
              "    <tr>\n",
              "      <td id=\"T_bbb2d_row4_col0\" class=\"data row4 col0\" >9705-IOVQQ</td>\n",
              "      <td id=\"T_bbb2d_row4_col1\" class=\"data row4 col1\" >5177</td>\n",
              "      <td id=\"T_bbb2d_row4_col2\" class=\"data row4 col2\" >Stayed</td>\n",
              "    </tr>\n",
              "    <tr>\n",
              "      <td id=\"T_bbb2d_row5_col0\" class=\"data row5 col0\" >7636-OWBPG</td>\n",
              "      <td id=\"T_bbb2d_row5_col1\" class=\"data row5 col1\" >3606</td>\n",
              "      <td id=\"T_bbb2d_row5_col2\" class=\"data row5 col2\" >Stayed</td>\n",
              "    </tr>\n",
              "    <tr>\n",
              "      <td id=\"T_bbb2d_row6_col0\" class=\"data row6 col0\" >3235-ETOOB</td>\n",
              "      <td id=\"T_bbb2d_row6_col1\" class=\"data row6 col1\" >3683</td>\n",
              "      <td id=\"T_bbb2d_row6_col2\" class=\"data row6 col2\" >Churned</td>\n",
              "    </tr>\n",
              "    <tr>\n",
              "      <td id=\"T_bbb2d_row7_col0\" class=\"data row7 col0\" >7176-WRTNX</td>\n",
              "      <td id=\"T_bbb2d_row7_col1\" class=\"data row7 col1\" >4511</td>\n",
              "      <td id=\"T_bbb2d_row7_col2\" class=\"data row7 col2\" >Stayed</td>\n",
              "    </tr>\n",
              "    <tr>\n",
              "      <td id=\"T_bbb2d_row8_col0\" class=\"data row8 col0\" >7968-QUXNS</td>\n",
              "      <td id=\"T_bbb2d_row8_col1\" class=\"data row8 col1\" >5920</td>\n",
              "      <td id=\"T_bbb2d_row8_col2\" class=\"data row8 col2\" >Stayed</td>\n",
              "    </tr>\n",
              "    <tr>\n",
              "      <td id=\"T_bbb2d_row9_col0\" class=\"data row9 col0\" >2904-GGUAZ</td>\n",
              "      <td id=\"T_bbb2d_row9_col1\" class=\"data row9 col1\" >5515</td>\n",
              "      <td id=\"T_bbb2d_row9_col2\" class=\"data row9 col2\" >Stayed</td>\n",
              "    </tr>\n",
              "    <tr>\n",
              "      <td id=\"T_bbb2d_row10_col0\" class=\"data row10 col0\" >...</td>\n",
              "      <td id=\"T_bbb2d_row10_col1\" class=\"data row10 col1\" >...</td>\n",
              "      <td id=\"T_bbb2d_row10_col2\" class=\"data row10 col2\" >...</td>\n",
              "    </tr>\n",
              "  </tbody>\n",
              "</table>\n"
            ],
            "text/plain": [
              "<pandas.io.formats.style.Styler at 0x17869af90>"
            ]
          },
          "metadata": {},
          "output_type": "display_data"
        }
      ],
      "source": [
        "SELECT customer_id, cltv AS customer_lifetime_value, status FROM telco_churn.customer_status"
      ]
    },
    {
      "cell_type": "markdown",
      "metadata": {
        "id": "tzF4wZeK6wT6"
      },
      "source": [
        "Data Source : <i>https://www.ibm.com/docs/en/cognos-analytics/11.1.0?topic=samples-telco-customer-churn</i>\n",
        "\n",
        "---\n",
        "\n",
        "<br>\n",
        "<a href=\"https://www.linkedin.com/in/yogapratama90s/\"><img src=\"https://img.shields.io/badge/-© 2024 Yoga Pratama-417DAC?style=for-the-badge&logoColor=white\"/></a>"
      ]
    }
  ],
  "metadata": {
    "kernelspec": {
      "display_name": "Python 3",
      "language": "python",
      "name": "python3"
    },
    "language_info": {
      "codemirror_mode": {
        "name": "ipython",
        "version": 3
      },
      "file_extension": ".py",
      "mimetype": "text/x-python",
      "name": "python",
      "nbconvert_exporter": "python",
      "pygments_lexer": "ipython3",
      "version": "3.11.8"
    },
    "colab": {
      "provenance": []
    }
  },
  "nbformat": 4,
  "nbformat_minor": 0
}
