{
  "cells": [
    {
      "cell_type": "markdown",
      "metadata": {
        "id": "ujSkmJIC6wT2"
      },
      "source": [
        "<a id=\"B\"></a>\n",
        "# <b>B. <span style='color:#E1B12D'><code>DISTINCT</code></span></b>\n",
        "\n",
        "Perintah `DISTINCT` dalam SQL digunakan untuk menghapus duplikasi dalam hasil query. Dengan `DISTINCT`, dapat dipastikan bahwa setiap baris dalam hasil query unik dan tidak ada baris yang sama. Untuk menggunakan perintah ini haruslah diletakkan setelah perintah `SELECT`.\n",
        "\n",
        "<img src=\"https://raw.githubusercontent.com/bachtiyarma/Material/main/Image/Materi-SQL/SQL-Distinct.png\" width=\"50%\">\n",
        "\n",
        "docs : <a href=\"https://dev.mysql.com/doc/refman/8.4/en/distinct-optimization.html\"><i>https://dev.mysql.com/doc/refman/8.4/en/distinct-optimization.html</a></i>"
      ]
    },
    {
      "cell_type": "markdown",
      "metadata": {
        "id": "p5m5S96X6wT2"
      },
      "source": [
        "<a id=\"B.1.\"></a>\n",
        "## <b>B.1. <span style='color:#0B2F9F'>Nilai Unik pada Satu Kolom Tertentu</span></b>"
      ]
    },
    {
      "cell_type": "markdown",
      "metadata": {
        "id": "Y4mzeJPR6wT2"
      },
      "source": [
        "#### <i><b><span style='color:#55679C'>Quest</span> : Tampilkan apa saja jenis status pada tabel customer_status!</b></i>"
      ]
    },
    {
      "cell_type": "code",
      "execution_count": null,
      "metadata": {
        "id": "hiN0v4iF6wT2",
        "outputId": "0ea31711-cec4-48f7-a113-f0cc74c17ed4"
      },
      "outputs": [
        {
          "data": {
            "text/html": [
              "<style type=\"text/css\">\n",
              "</style>\n",
              "<table id=\"T_af2b0\">\n",
              "  <thead>\n",
              "    <tr>\n",
              "      <th id=\"T_af2b0_level0_col0\" class=\"col_heading level0 col0\" >status</th>\n",
              "    </tr>\n",
              "  </thead>\n",
              "  <tbody>\n",
              "    <tr>\n",
              "      <td id=\"T_af2b0_row0_col0\" class=\"data row0 col0\" >Churned</td>\n",
              "    </tr>\n",
              "    <tr>\n",
              "      <td id=\"T_af2b0_row1_col0\" class=\"data row1 col0\" >Stayed</td>\n",
              "    </tr>\n",
              "    <tr>\n",
              "      <td id=\"T_af2b0_row2_col0\" class=\"data row2 col0\" >Joined</td>\n",
              "    </tr>\n",
              "  </tbody>\n",
              "</table>\n"
            ],
            "text/plain": [
              "<pandas.io.formats.style.Styler at 0x1543b1f50>"
            ]
          },
          "metadata": {},
          "output_type": "display_data"
        }
      ],
      "source": [
        "SELECT DISTINCT status FROM telco_churn.customer_status"
      ]
    },
    {
      "cell_type": "markdown",
      "metadata": {
        "id": "5ODQK-5z6wT2"
      },
      "source": [
        "<a id=\"B.2.\"></a>\n",
        "## <b>B.2. <span style='color:#0B2F9F'>Nilai Unik pada Lebih dari Satu Kolom</span></b>\n",
        "\n",
        "Perintah `DISTINCT` dapat diterapkan dilebih dari satu kolom. Jika diterapkan pada lebih dari satu kolom maka akan menghasilkan kombinasi unik antar baris pada kolom yang terpilih"
      ]
    },
    {
      "cell_type": "markdown",
      "metadata": {
        "id": "e4r6uA3d6wT2"
      },
      "source": [
        "#### <i><b><span style='color:#55679C'>Quest</span> : Tampilkan apa saja jenis churn_category dan churn_reason pada tabel customer_status!</b></i>"
      ]
    },
    {
      "cell_type": "code",
      "execution_count": null,
      "metadata": {
        "id": "V-rqOcL96wT3",
        "outputId": "6c7238d5-2416-45f1-fa43-6f1b670e6e1a"
      },
      "outputs": [
        {
          "data": {
            "text/html": [
              "<style type=\"text/css\">\n",
              "</style>\n",
              "<table id=\"T_fc9ab\">\n",
              "  <thead>\n",
              "    <tr>\n",
              "      <th id=\"T_fc9ab_level0_col0\" class=\"col_heading level0 col0\" >churn_category</th>\n",
              "      <th id=\"T_fc9ab_level0_col1\" class=\"col_heading level0 col1\" >churn_reason</th>\n",
              "    </tr>\n",
              "  </thead>\n",
              "  <tbody>\n",
              "    <tr>\n",
              "      <td id=\"T_fc9ab_row0_col0\" class=\"data row0 col0\" >Competitor</td>\n",
              "      <td id=\"T_fc9ab_row0_col1\" class=\"data row0 col1\" >Competitor offered more data</td>\n",
              "    </tr>\n",
              "    <tr>\n",
              "      <td id=\"T_fc9ab_row1_col0\" class=\"data row1 col0\" >Competitor</td>\n",
              "      <td id=\"T_fc9ab_row1_col1\" class=\"data row1 col1\" >Competitor made better offer</td>\n",
              "    </tr>\n",
              "    <tr>\n",
              "      <td id=\"T_fc9ab_row2_col0\" class=\"data row2 col0\" >Dissatisfaction</td>\n",
              "      <td id=\"T_fc9ab_row2_col1\" class=\"data row2 col1\" >Limited range of services</td>\n",
              "    </tr>\n",
              "    <tr>\n",
              "      <td id=\"T_fc9ab_row3_col0\" class=\"data row3 col0\" >Price</td>\n",
              "      <td id=\"T_fc9ab_row3_col1\" class=\"data row3 col1\" >Extra data charges</td>\n",
              "    </tr>\n",
              "    <tr>\n",
              "      <td id=\"T_fc9ab_row4_col0\" class=\"data row4 col0\" >Competitor</td>\n",
              "      <td id=\"T_fc9ab_row4_col1\" class=\"data row4 col1\" >Competitor had better devices</td>\n",
              "    </tr>\n",
              "    <tr>\n",
              "      <td id=\"T_fc9ab_row5_col0\" class=\"data row5 col0\" >Other</td>\n",
              "      <td id=\"T_fc9ab_row5_col1\" class=\"data row5 col1\" >Don't know</td>\n",
              "    </tr>\n",
              "    <tr>\n",
              "      <td id=\"T_fc9ab_row6_col0\" class=\"data row6 col0\" >Dissatisfaction</td>\n",
              "      <td id=\"T_fc9ab_row6_col1\" class=\"data row6 col1\" >Service dissatisfaction</td>\n",
              "    </tr>\n",
              "    <tr>\n",
              "      <td id=\"T_fc9ab_row7_col0\" class=\"data row7 col0\" >Price</td>\n",
              "      <td id=\"T_fc9ab_row7_col1\" class=\"data row7 col1\" >Lack of affordable download/upload speed</td>\n",
              "    </tr>\n",
              "    <tr>\n",
              "      <td id=\"T_fc9ab_row8_col0\" class=\"data row8 col0\" >Dissatisfaction</td>\n",
              "      <td id=\"T_fc9ab_row8_col1\" class=\"data row8 col1\" >Product dissatisfaction</td>\n",
              "    </tr>\n",
              "    <tr>\n",
              "      <td id=\"T_fc9ab_row9_col0\" class=\"data row9 col0\" >Price</td>\n",
              "      <td id=\"T_fc9ab_row9_col1\" class=\"data row9 col1\" >Long distance charges</td>\n",
              "    </tr>\n",
              "    <tr>\n",
              "      <td id=\"T_fc9ab_row10_col0\" class=\"data row10 col0\" >Dissatisfaction</td>\n",
              "      <td id=\"T_fc9ab_row10_col1\" class=\"data row10 col1\" >Poor expertise of online support</td>\n",
              "    </tr>\n",
              "    <tr>\n",
              "      <td id=\"T_fc9ab_row11_col0\" class=\"data row11 col0\" >Attitude</td>\n",
              "      <td id=\"T_fc9ab_row11_col1\" class=\"data row11 col1\" >Attitude of support person</td>\n",
              "    </tr>\n",
              "    <tr>\n",
              "      <td id=\"T_fc9ab_row12_col0\" class=\"data row12 col0\" >Dissatisfaction</td>\n",
              "      <td id=\"T_fc9ab_row12_col1\" class=\"data row12 col1\" >Network reliability</td>\n",
              "    </tr>\n",
              "    <tr>\n",
              "      <td id=\"T_fc9ab_row13_col0\" class=\"data row13 col0\" >Competitor</td>\n",
              "      <td id=\"T_fc9ab_row13_col1\" class=\"data row13 col1\" >Competitor offered higher download speeds</td>\n",
              "    </tr>\n",
              "    <tr>\n",
              "      <td id=\"T_fc9ab_row14_col0\" class=\"data row14 col0\" >Other</td>\n",
              "      <td id=\"T_fc9ab_row14_col1\" class=\"data row14 col1\" >Poor expertise of online support</td>\n",
              "    </tr>\n",
              "    <tr>\n",
              "      <td id=\"T_fc9ab_row15_col0\" class=\"data row15 col0\" >Other</td>\n",
              "      <td id=\"T_fc9ab_row15_col1\" class=\"data row15 col1\" >Moved</td>\n",
              "    </tr>\n",
              "    <tr>\n",
              "      <td id=\"T_fc9ab_row16_col0\" class=\"data row16 col0\" >Price</td>\n",
              "      <td id=\"T_fc9ab_row16_col1\" class=\"data row16 col1\" >Price too high</td>\n",
              "    </tr>\n",
              "    <tr>\n",
              "      <td id=\"T_fc9ab_row17_col0\" class=\"data row17 col0\" >Attitude</td>\n",
              "      <td id=\"T_fc9ab_row17_col1\" class=\"data row17 col1\" >Attitude of service provider</td>\n",
              "    </tr>\n",
              "    <tr>\n",
              "      <td id=\"T_fc9ab_row18_col0\" class=\"data row18 col0\" >Dissatisfaction</td>\n",
              "      <td id=\"T_fc9ab_row18_col1\" class=\"data row18 col1\" >Poor expertise of phone support</td>\n",
              "    </tr>\n",
              "    <tr>\n",
              "      <td id=\"T_fc9ab_row19_col0\" class=\"data row19 col0\" >Other</td>\n",
              "      <td id=\"T_fc9ab_row19_col1\" class=\"data row19 col1\" >Deceased</td>\n",
              "    </tr>\n",
              "    <tr>\n",
              "      <td id=\"T_fc9ab_row20_col0\" class=\"data row20 col0\" >nan</td>\n",
              "      <td id=\"T_fc9ab_row20_col1\" class=\"data row20 col1\" >nan</td>\n",
              "    </tr>\n",
              "    <tr>\n",
              "      <td id=\"T_fc9ab_row21_col0\" class=\"data row21 col0\" >Dissatisfaction</td>\n",
              "      <td id=\"T_fc9ab_row21_col1\" class=\"data row21 col1\" >Lack of self-service on Website</td>\n",
              "    </tr>\n",
              "  </tbody>\n",
              "</table>\n"
            ],
            "text/plain": [
              "<pandas.io.formats.style.Styler at 0x17492b1d0>"
            ]
          },
          "metadata": {},
          "output_type": "display_data"
        }
      ],
      "source": [
        "SELECT DISTINCT churn_category, churn_reason FROM `telco_churn.customer_status`"
      ]
    },
    {
      "cell_type": "markdown",
      "metadata": {
        "id": "tzF4wZeK6wT6"
      },
      "source": [
        "Data Source : <i>https://www.ibm.com/docs/en/cognos-analytics/11.1.0?topic=samples-telco-customer-churn</i>\n",
        "\n",
        "---\n",
        "\n",
        "<br>\n",
        "<a href=\"https://www.linkedin.com/in/yogapratama90s/\"><img src=\"https://img.shields.io/badge/-© 2024 Yoga Pratama-417DAC?style=for-the-badge&logoColor=white\"/></a>"
      ]
    }
  ],
  "metadata": {
    "kernelspec": {
      "display_name": "Python 3",
      "language": "python",
      "name": "python3"
    },
    "language_info": {
      "codemirror_mode": {
        "name": "ipython",
        "version": 3
      },
      "file_extension": ".py",
      "mimetype": "text/x-python",
      "name": "python",
      "nbconvert_exporter": "python",
      "pygments_lexer": "ipython3",
      "version": "3.11.8"
    },
    "colab": {
      "provenance": []
    }
  },
  "nbformat": 4,
  "nbformat_minor": 0
}
